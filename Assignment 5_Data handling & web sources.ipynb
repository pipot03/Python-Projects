{
 "cells": [
  {
   "cell_type": "markdown",
   "id": "16874478",
   "metadata": {},
   "source": [
    "# Assignment 1\n"
   ]
  },
  {
   "cell_type": "code",
   "execution_count": 14,
   "id": "7a936837",
   "metadata": {},
   "outputs": [
    {
     "name": "stdout",
     "output_type": "stream",
     "text": [
      "Filtered data has been written to top_students.csv\n"
     ]
    }
   ],
   "source": [
    "import csv\n",
    "\n",
    "# Function to filter students based on grades\n",
    "def filter_students(input_file, output_file):\n",
    "    with open(input_file, mode='r') as file:\n",
    "        reader = csv.DictReader(file)\n",
    "        headers = reader.fieldnames + ['Status']\n",
    "        filtered_students = []\n",
    "\n",
    "        for row in reader:\n",
    "            if row['Grade'].strip().upper() <= 'B':\n",
    "                row['Status'] = 'Passed'\n",
    "                filtered_students.append(row)\n",
    "\n",
    "    with open(output_file, mode='w', newline='') as output:\n",
    "        writer = csv.DictWriter(output, fieldnames=headers)\n",
    "        writer.writeheader()\n",
    "        writer.writerows(filtered_students)\n",
    "\n",
    "# File names\n",
    "input_filename = 'students.csv'\n",
    "output_filename = 'top_students.csv'\n",
    "\n",
    "# Filter students and write to a new CSV file\n",
    "filter_students(input_filename, output_filename)\n",
    "print(f\"Filtered data has been written to {output_filename}\")"
   ]
  },
  {
   "cell_type": "code",
   "execution_count": null,
   "id": "c6c782ed",
   "metadata": {},
   "outputs": [
    {
     "name": "stdout",
     "output_type": "stream",
     "text": [
      "Enter the name of a state: Kuantan\n",
      "Kuantan is not found in the data.\n",
      "Enter the name of a state: Johor\n",
      "Population of Johor: 3794000\n",
      "Enter the name of a state: Pahang\n",
      "Pahang is not found in the data.\n",
      "Enter the name of a state: Kelantan\n",
      "Kelantan is not found in the data.\n",
      "Enter the name of a state: Selangor\n",
      "Selangor is not found in the data.\n",
      "Enter the name of a state: Terengganu\n",
      "Terengganu is not found in the data.\n",
      "Enter the name of a state: Kuala Lumpur\n",
      "Kuala Lumpur is not found in the data.\n",
      "Enter the name of a state: Kedah\n",
      "Kedah is not found in the data.\n",
      "Enter the name of a state: kwri09asodfji\n",
      "kwri09asodfji is not found in the data.\n",
      "Enter the name of a state: korea\n",
      "korea is not found in the data.\n",
      "Enter the name of a state: Kuala Lumpur\n",
      "Kuala Lumpur is not found in the data.\n"
     ]
    }
   ],
   "source": [
    "import requests\n",
    "\n",
    "def get_population_by_state(state_name, malaysia_state_data):\n",
    "    for state in malaysia_state_data:\n",
    "        if state['state'].lower() == state_name.lower():\n",
    "            return state['population']\n",
    "        return None\n",
    "    \n",
    "def main():\n",
    "    api_url = \"https://jian.sh/malaysia-api/state/v1/all.json\"\n",
    "    response = requests.get(api_url)\n",
    "    \n",
    "    if response.ok:\n",
    "        try:\n",
    "            malaysia_state_data = response.json()\n",
    "            \n",
    "            while True:\n",
    "                state_name = input(\"Enter the name of a state: \")\n",
    "                if not state_name:\n",
    "                    break\n",
    "                    \n",
    "                population = get_population_by_state(state_name, malaysia_state_data)\n",
    "                \n",
    "                if population is not None:\n",
    "                    print(f\"Population of {state_name}: {population}\")\n",
    "                else:\n",
    "                    print(f\"{state_name} is not found in the data.\")\n",
    "                    \n",
    "        except ValueError:\n",
    "            print(\"Error: Unable to parse JSON response.\")\n",
    "            \n",
    "        else:\n",
    "            print(f\"Error: {response.status_code} - {response.reason}\")\n",
    "            \n",
    "if __name__ == \"__main__\":\n",
    "    main()"
   ]
  },
  {
   "cell_type": "code",
   "execution_count": null,
   "id": "fe6230bd",
   "metadata": {},
   "outputs": [
    {
     "name": "stdout",
     "output_type": "stream",
     "text": [
      "Enter the name of a state: Kelantan\n",
      "Population of Kelantan: 1928800\n",
      "Enter the name of a state: Pahang\n",
      "Population of Pahang: 1684600\n",
      "Enter the name of a state: Kuala Lumpur\n",
      "Population of Kuala Lumpur: 1746600\n",
      "Enter the name of a state: Putrajaya\n",
      "Population of Putrajaya: 116100\n",
      "Enter the name of a state: Kubang Pasu\n",
      "Kubang Pasu is not found in the data.\n",
      "Enter the name of a state: Cukai\n",
      "Cukai is not found in the data.\n"
     ]
    }
   ],
   "source": [
    "import requests\n",
    "\n",
    "def get_population(state_name):\n",
    "    url = \"https://jian.sh/malaysia-api/state/v1/all.json\"\n",
    "    \n",
    "    try:\n",
    "        response = requests.get(url)\n",
    "        data = response.json()\n",
    "        \n",
    "        for state in data:\n",
    "            if state[\"state\"].lower() == state_name.lower():\n",
    "                return state[\"population\"]\n",
    "        \n",
    "        return None  # State not found in the dataset\n",
    "\n",
    "    except requests.exceptions.RequestException as e:\n",
    "        print(f\"Error fetching data: {e}\")\n",
    "        return None\n",
    "\n",
    "def main():\n",
    "    while True:\n",
    "        state_name = input(\"Enter the name of a state: \")\n",
    "\n",
    "        if state_name.lower() == \"exit\":\n",
    "            break  # Exit the program if the user enters \"exit\"\n",
    "\n",
    "        population = get_population(state_name)\n",
    "\n",
    "        if population is not None:\n",
    "            print(f\"Population of {state_name}: {population}\")\n",
    "        else:\n",
    "            print(f\"{state_name} is not found in the data.\")\n",
    "\n",
    "if __name__ == \"__main__\":\n",
    "    main()"
   ]
  },
  {
   "cell_type": "code",
   "execution_count": null,
   "id": "18c80986",
   "metadata": {},
   "outputs": [],
   "source": []
  }
 ],
 "metadata": {
  "kernelspec": {
   "display_name": "Python 3 (ipykernel)",
   "language": "python",
   "name": "python3"
  },
  "language_info": {
   "codemirror_mode": {
    "name": "ipython",
    "version": 3
   },
   "file_extension": ".py",
   "mimetype": "text/x-python",
   "name": "python",
   "nbconvert_exporter": "python",
   "pygments_lexer": "ipython3",
   "version": "3.11.5"
  }
 },
 "nbformat": 4,
 "nbformat_minor": 5
}
