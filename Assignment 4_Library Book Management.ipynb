{
 "cells": [
  {
   "cell_type": "code",
   "execution_count": 1,
   "id": "a3c63020",
   "metadata": {},
   "outputs": [],
   "source": [
    "def checkout_books(librarian_name, book_titles, borrowing_period='2 weeks', **kwargs):\n",
    "    \"\"\"\n",
    "    To manage book checkouts at a library.\n",
    "    \n",
    "    Parameters:\n",
    "    - librarian_name: str, the processing librarian's name during checkout.\n",
    "    - book_titles: str, one or more book titles being checked out.\n",
    "    - borrowing_period: str, default='2 weeks', the standard checkout duration.\n",
    "    - **kwargs: additional information about the checkout, such as late_fee per day or special_conditions/remarks.\n",
    "    \n",
    "    Returns:\n",
    "    - None\n",
    "    \"\"\"\n",
    "    print(\"\\nCheckout complete. Please return the books on time.\")"
   ]
  },
  {
   "cell_type": "code",
   "execution_count": 2,
   "id": "b89bd27f",
   "metadata": {
    "scrolled": true
   },
   "outputs": [
    {
     "ename": "NameError",
     "evalue": "name 'librarian_name' is not defined",
     "output_type": "error",
     "traceback": [
      "\u001b[1;31m---------------------------------------------------------------------------\u001b[0m",
      "\u001b[1;31mNameError\u001b[0m                                 Traceback (most recent call last)",
      "Cell \u001b[1;32mIn[2], line 1\u001b[0m\n\u001b[1;32m----> 1\u001b[0m \u001b[38;5;28mprint\u001b[39m(\u001b[38;5;124mf\u001b[39m\u001b[38;5;124m\"\u001b[39m\u001b[38;5;124mCheckout process by \u001b[39m\u001b[38;5;132;01m{\u001b[39;00mlibrarian_name\u001b[38;5;132;01m}\u001b[39;00m\u001b[38;5;124m:\u001b[39m\u001b[38;5;124m\"\u001b[39m)\n\u001b[0;32m      3\u001b[0m \u001b[38;5;28;01mif\u001b[39;00m \u001b[38;5;129;01mnot\u001b[39;00m book_titles:\n\u001b[0;32m      4\u001b[0m     \u001b[38;5;28mprint\u001b[39m(\u001b[38;5;124m\"\u001b[39m\u001b[38;5;124mNo selected books being checked out.\u001b[39m\u001b[38;5;124m\"\u001b[39m)\n",
      "\u001b[1;31mNameError\u001b[0m: name 'librarian_name' is not defined"
     ]
    }
   ],
   "source": [
    "print(f\"Checkout process by {librarian_name}:\")\n",
    "\n",
    "if not book_titles:\n",
    "    print(\"No selected books being checked out.\")\n",
    "    return\n",
    "\n",
    "print(\"Books being checked out:\")\n",
    "for title in book_titles:\n",
    "    print(f\"- {title}\")\n",
    "    \n",
    "print(f\"\\nCheckout duration: {borrowing_period}\")\n",
    "\n",
    "if 'late_fee' in kwargs:\n",
    "    late_fee = kwargs['late_fee']\n",
    "    print(f\"Late fee per day: {late_fee}\")\n",
    "    \n",
    "if 'special_conditions' in kwargs:\n",
    "    special_conditions = kwargs['special_conditions']\n",
    "    print(f\"Special conditions: {special_conditions}\")\n",
    "    \n",
    "print(\"\\nCheckout complete. Please return the books on time as extra charges will incur due to late return.\") \n",
    "\n",
    "# Example usage:\n",
    "checkout_books('Elsa', 'Perry Chemical Engineers Handbook', 'Thermodynamics II', borrowing_period='4 weeks', late_fee=0.75, special_conditions='Handle with care' )"
   ]
  },
  {
   "cell_type": "code",
   "execution_count": 6,
   "id": "6b1efe39",
   "metadata": {},
   "outputs": [
    {
     "ename": "NameError",
     "evalue": "name 'librarian_name' is not defined",
     "output_type": "error",
     "traceback": [
      "\u001b[1;31m---------------------------------------------------------------------------\u001b[0m",
      "\u001b[1;31mNameError\u001b[0m                                 Traceback (most recent call last)",
      "Cell \u001b[1;32mIn[6], line 15\u001b[0m\n\u001b[0;32m      1\u001b[0m \u001b[38;5;28;01mdef\u001b[39;00m \u001b[38;5;21mcheckout_books\u001b[39m(librarian_name, \u001b[38;5;241m*\u001b[39mbook_titles, borrowing_period\u001b[38;5;241m=\u001b[39m\u001b[38;5;124m'\u001b[39m\u001b[38;5;124m2 weeks\u001b[39m\u001b[38;5;124m'\u001b[39m, \u001b[38;5;241m*\u001b[39m\u001b[38;5;241m*\u001b[39mkwargs):\n\u001b[0;32m      2\u001b[0m \u001b[38;5;250m    \u001b[39m\u001b[38;5;124;03m\"\"\"\u001b[39;00m\n\u001b[0;32m      3\u001b[0m \u001b[38;5;124;03m    To manage book checkouts at a library.\u001b[39;00m\n\u001b[0;32m      4\u001b[0m \u001b[38;5;124;03m    \u001b[39;00m\n\u001b[1;32m   (...)\u001b[0m\n\u001b[0;32m     12\u001b[0m \u001b[38;5;124;03m    - None\u001b[39;00m\n\u001b[0;32m     13\u001b[0m \u001b[38;5;124;03m    \"\"\"\u001b[39;00m\n\u001b[1;32m---> 15\u001b[0m \u001b[38;5;28mprint\u001b[39m(\u001b[38;5;124mf\u001b[39m\u001b[38;5;124m\"\u001b[39m\u001b[38;5;130;01m\\n\u001b[39;00m\u001b[38;5;124mCheckout process by \u001b[39m\u001b[38;5;132;01m{\u001b[39;00mlibrarian_name\u001b[38;5;132;01m}\u001b[39;00m\u001b[38;5;124m:\u001b[39m\u001b[38;5;124m\"\u001b[39m)\n\u001b[0;32m     17\u001b[0m \u001b[38;5;28;01mif\u001b[39;00m \u001b[38;5;129;01mnot\u001b[39;00m book_titles:\n\u001b[0;32m     18\u001b[0m     \u001b[38;5;28mprint\u001b[39m(\u001b[38;5;124m\"\u001b[39m\u001b[38;5;124mNo selected books being checked out.\u001b[39m\u001b[38;5;124m\"\u001b[39m)\n",
      "\u001b[1;31mNameError\u001b[0m: name 'librarian_name' is not defined"
     ]
    }
   ],
   "source": [
    "def checkout_books(librarian_name, *book_titles, borrowing_period='2 weeks', **kwargs):\n",
    "    \"\"\"\n",
    "    To manage book checkouts at a library.\n",
    "    \n",
    "    Parameters:\n",
    "    - librarian_name: str, the processing librarian's name during checkout.\n",
    "    - book_titles: str, one or more book titles being checked out.\n",
    "    - borrowing_period: str, default='2 weeks', the standard checkout duration.\n",
    "    - **kwargs: additional information about the checkout, such as late_fee per day or special_conditions/remarks.\n",
    "    \n",
    "    Returns:\n",
    "    - None\n",
    "    \"\"\"\n",
    "    \n",
    "print(f\"\\nCheckout process by {librarian_name}:\")\n",
    "\n",
    "if not book_titles:\n",
    "    print(\"No selected books being checked out.\")\n",
    "    return\n",
    "\n",
    "print(\"Books being checked out:\")\n",
    "for title in book_titles:\n",
    "    print(f\"- {title}\")\n",
    "    \n",
    "print(f\"\\nCheckout duration: {borrowing_period}\")\n",
    "\n",
    "if 'late_fee' in kwargs:\n",
    "    late_fee = kwargs['late_fee']\n",
    "    print(f\"Late fee per day: {late_fee}\")\n",
    "    \n",
    "if 'special_conditions' in kwargs:\n",
    "    special_conditions = kwargs['special_conditions']\n",
    "    print(f\"Special conditions: {special_conditions}\")\n",
    "    \n",
    "print(\"\\nCheckout complete. Please return the books on time as extra charges will incur due to late return.\") \n",
    "\n",
    "# Example usage:\n",
    "checkout_books('Elsa', 'Perry Chemical Engineers Handbook', 'Thermodynamics II', borrowing_period='4 weeks', late_fee=0.75, special_conditions='Handle with care')"
   ]
  },
  {
   "cell_type": "code",
   "execution_count": 8,
   "id": "76cadba0",
   "metadata": {},
   "outputs": [
    {
     "name": "stdout",
     "output_type": "stream",
     "text": [
      "Checkout process by Physics Form 5:\n",
      "Books being checked out:\n",
      "- Chemistry Form 5\n",
      "- Oppa, Saranghae\n",
      "\n",
      "Checkout duration: 3 weeks\n",
      "Late fee per day: 0.5\n",
      "Special conditions: Handle with care\n",
      "\n",
      "Checkout complete. Please return the books on time.\n"
     ]
    }
   ],
   "source": [
    "def checkout_books(librarian_name, *book_titles, duration='2 weeks', **kwargs):\n",
    "    \"\"\"\n",
    "    Manage book checkouts at a library.\n",
    "    Parameters:\n",
    "    - librarian_name: str, the name of the librarian processing the checkout.\n",
    "    - book_titles: str, one or more book titles being checked out.\n",
    "    - duration: str, default='2 weeks', the standard checkout duration.\n",
    "    - **kwargs: additional information about the checkout, such as late_fee per day or special_conditions.\n",
    "    Returns:\n",
    "    - None\n",
    "    \"\"\"\n",
    "    \n",
    "    print(f\"Checkout process by {librarian_name}:\")\n",
    "\n",
    "    if not book_titles:\n",
    "        print(\"No books selected for checkout.\")\n",
    "        return\n",
    "    \n",
    "    print(\"Books being checked out:\")\n",
    "    for title in book_titles:\n",
    "        print(f\"- {title}\")\n",
    "        \n",
    "    print(f\"\\nCheckout duration: {duration}\")\n",
    "    \n",
    "    if 'late_fee' in kwargs:\n",
    "        late_fee = kwargs['late_fee']\n",
    "        print(f\"Late fee per day: {late_fee}\")\n",
    "        \n",
    "    if 'special_conditions' in kwargs:\n",
    "        special_conditions = kwargs['special_conditions']\n",
    "        print(f\"Special conditions: {special_conditions}\")\n",
    "        \n",
    "    print(\"\\nCheckout complete. Please return the books on time.\")\n",
    "    \n",
    "# Example usage:\n",
    "checkout_books('Physics Form 5', 'Chemistry Form 5', 'Oppa, Saranghae', duration='3 weeks', late_fee=0.50, special_conditions='Handle with care')"
   ]
  },
  {
   "cell_type": "code",
   "execution_count": 2,
   "id": "9747e10e",
   "metadata": {},
   "outputs": [
    {
     "name": "stdout",
     "output_type": "stream",
     "text": [
      "Checkout process by Elsa:\n",
      "Books being checked out:\n",
      "- Perry Chemical Engineers Handbook\n",
      "- Thermodynamics II\n",
      "\n",
      "Checkout duration: 3 weeks\n",
      "Late fee per day: 0.75\n",
      "Special conditions: Handle with care\n",
      "\n",
      "Checkout complete. Please return the books on time.\n"
     ]
    }
   ],
   "source": [
    "def checkout_books(librarian_name, *book_titles, borrowing_period='2 weeks', **kwargs):\n",
    "    \"\"\"\n",
    "    Manage book checkouts at a library.\n",
    "    Parameters:\n",
    "    - librarian_name: str, the name of the librarian processing the checkout.\n",
    "    - book_titles: str, one or more book titles being checked out.\n",
    "    - borrowing_period: str, default='2 weeks', the standard borrowing_period.\n",
    "    - **kwargs: additional information about the checkout, such as late_fee per day or special_conditions.\n",
    "    Returns:\n",
    "    - None\n",
    "    \"\"\"\n",
    "    \n",
    "    print(f\"Checkout process by {librarian_name}:\")\n",
    "\n",
    "    if not book_titles:\n",
    "        print(\"No books selected for checkout.\")\n",
    "        return\n",
    "    \n",
    "    print(\"Books being checked out:\")\n",
    "    for title in book_titles:\n",
    "        print(f\"- {title}\")\n",
    "        \n",
    "    print(f\"\\nCheckout duration: {borrowing_period}\")\n",
    "    \n",
    "    if 'late_fee' in kwargs:\n",
    "        late_fee = kwargs['late_fee']\n",
    "        print(f\"Late fee per day: {late_fee}\")\n",
    "        \n",
    "    if 'special_conditions' in kwargs:\n",
    "        special_conditions = kwargs['special_conditions']\n",
    "        print(f\"Special conditions: {special_conditions}\")\n",
    "        \n",
    "    print(\"\\nCheckout complete. Please return the books on time.\")\n",
    "        \n",
    "# Example usage:\n",
    "checkout_books('Elsa', 'Perry Chemical Engineers Handbook', 'Thermodynamics II', borrowing_period='3 weeks', late_fee=0.75, special_conditions='Handle with care')"
   ]
  },
  {
   "cell_type": "code",
   "execution_count": null,
   "id": "71dbf3fb",
   "metadata": {},
   "outputs": [],
   "source": []
  }
 ],
 "metadata": {
  "kernelspec": {
   "display_name": "Python 3 (ipykernel)",
   "language": "python",
   "name": "python3"
  },
  "language_info": {
   "codemirror_mode": {
    "name": "ipython",
    "version": 3
   },
   "file_extension": ".py",
   "mimetype": "text/x-python",
   "name": "python",
   "nbconvert_exporter": "python",
   "pygments_lexer": "ipython3",
   "version": "3.11.5"
  }
 },
 "nbformat": 4,
 "nbformat_minor": 5
}
