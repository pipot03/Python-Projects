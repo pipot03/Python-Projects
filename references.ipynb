{
 "cells": [
  {
   "cell_type": "code",
   "execution_count": 9,
   "id": "0f3f3de8",
   "metadata": {},
   "outputs": [
    {
     "name": "stdout",
     "output_type": "stream",
     "text": [
      "Filtered data has been written to top_students.csv\n"
     ]
    }
   ],
   "source": [
    "import csv\n",
    "\n",
    "# Function to filter students based on grades\n",
    "def filter_students(input_file, output_file):\n",
    "    with open(input_file, mode='r') as file:\n",
    "        reader = csv.DictReader(file)\n",
    "        headers = reader.fieldnames + ['Status']\n",
    "        filtered_students = []\n",
    "\n",
    "        for row in reader:\n",
    "            if row['Grade'].strip().upper() <= 'B':\n",
    "                row['Status'] = 'Passed'\n",
    "                filtered_students.append(row)\n",
    "\n",
    "    with open(output_file, mode='w', newline='') as output:\n",
    "        writer = csv.DictWriter(output, fieldnames=headers)\n",
    "        writer.writeheader()\n",
    "        writer.writerows(filtered_students)\n",
    "\n",
    "# File names\n",
    "input_filename = 'students.csv'\n",
    "output_filename = 'top_students.csv'\n",
    "\n",
    "# Filter students and write to a new CSV file\n",
    "filter_students(input_filename, output_filename)\n",
    "print(f\"Filtered data has been written to {output_filename}\")\n",
    "            "
   ]
  },
  {
   "cell_type": "code",
   "execution_count": 6,
   "id": "39cd037d",
   "metadata": {},
   "outputs": [
    {
     "name": "stdout",
     "output_type": "stream",
     "text": [
      "Filtered data has been written to top_students.csv\n"
     ]
    }
   ],
   "source": [
    "import csv\n",
    "\n",
    "def process_csv(input_file, output_file):\n",
    "    with open('students.csv', 'r') as file:\n",
    "        csv_reader = csv.DictReader(file)\n",
    "        rows = list(csv_reader)\n",
    "        \n",
    "        #Filter out students with grade lesser than 'B'\n",
    "        filtered_rows = [row for row in rows if row['Grade'] <= 'B']\n",
    "        \n",
    "        #Add a 'Status' column and set value to 'Passed'\n",
    "        for row in filtered_rows:\n",
    "            row['Status'] = 'Passed'\n",
    "            \n",
    "        #Write the filtered data to a new csv file\n",
    "        headers = ['Name', 'Age', 'Grade', 'Status']\n",
    "        with open('top_students.csv', 'w', newline='') as file:\n",
    "            writer = csv.DictWriter(file, fieldnames=headers)\n",
    "            writer.writeheader()\n",
    "            writer.writerows(filtered_rows)\n",
    "            \n",
    "if __name__ == \"__main__\":\n",
    "    input_file = 'students.csv'\n",
    "    output_file = 'top_students.csv'\n",
    "                \n",
    "    process_csv(input_file, output_file)\n",
    "    print(f\"Filtered data has been written to {output_file}\")\n",
    "            "
   ]
  },
  {
   "cell_type": "code",
   "execution_count": 10,
   "id": "ad66c18a",
   "metadata": {},
   "outputs": [
    {
     "name": "stdout",
     "output_type": "stream",
     "text": [
      "Filtered data has been written to top_students.csv\n"
     ]
    }
   ],
   "source": [
    "import csv\n",
    "\n",
    "def read_csv(filename):\n",
    "    data = []\n",
    "    with open(filename, 'r') as csvfile:\n",
    "        reader = csv.DictReader(csvfile)\n",
    "        for row in reader:\n",
    "            data.append(row)\n",
    "    return data\n",
    "\n",
    "def filter_students(data):\n",
    "    filtered_data = []\n",
    "    for student in data:\n",
    "        if student['Grade'] <= 'B':\n",
    "            filtered_data.append(student)\n",
    "    return filtered_data\n",
    "\n",
    "def add_status_column(data):\n",
    "    for student in data:\n",
    "        student['Status'] = 'Passed'\n",
    "    return data\n",
    "\n",
    "def write_csv(data, output_filename):\n",
    "    fieldnames = data[0].keys()\n",
    "    with open(output_filename, 'w', newline='') as csvfile:\n",
    "        writer = csv.DictWriter(csvfile, fieldnames=fieldnames)\n",
    "        writer.writeheader()\n",
    "        writer.writerows(data)\n",
    "        \n",
    "if __name__ == \"__main__\":\n",
    "    input_filename = \"students.csv\"\n",
    "    output_filename = \"top_students.csv\"\n",
    "    \n",
    "    process_csv(input_file, output_file)\n",
    "    print(f\"Filtered data has been written to {output_file}\")\n",
    "        "
   ]
  },
  {
   "cell_type": "code",
   "execution_count": 14,
   "id": "77219ee4",
   "metadata": {},
   "outputs": [
    {
     "name": "stdout",
     "output_type": "stream",
     "text": [
      "Enter the name of the state: Terengganu\n",
      "Population of Terengganu: 1275100\n"
     ]
    }
   ],
   "source": [
    "import requests\n",
    "\n",
    "api_url = \"https://jian.sh/malaysia-api/state/v1/all.json\"\n",
    "response = requests.get(api_url)\n",
    "malaysia_state_data = response.json()\n",
    "statename=input(\"Enter the name of the state: \")\n",
    "\n",
    "found = False\n",
    "\n",
    "for state in malaysia_state_data:\n",
    "    if statename == state[\"state\"]:\n",
    "        print(\"Population of \" + statename +\": \" + str(state[\"population\"]))\n",
    "        found = True\n",
    "        break\n",
    "        \n",
    "if found == False:\n",
    "    print(statename + \"is not found in the data.\")\n",
    "   "
   ]
  },
  {
   "cell_type": "code",
   "execution_count": null,
   "id": "bdd6a829",
   "metadata": {},
   "outputs": [],
   "source": []
  }
 ],
 "metadata": {
  "kernelspec": {
   "display_name": "Python 3 (ipykernel)",
   "language": "python",
   "name": "python3"
  },
  "language_info": {
   "codemirror_mode": {
    "name": "ipython",
    "version": 3
   },
   "file_extension": ".py",
   "mimetype": "text/x-python",
   "name": "python",
   "nbconvert_exporter": "python",
   "pygments_lexer": "ipython3",
   "version": "3.11.5"
  }
 },
 "nbformat": 4,
 "nbformat_minor": 5
}
