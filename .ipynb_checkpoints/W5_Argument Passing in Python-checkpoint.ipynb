{
 "cells": [
  {
   "cell_type": "markdown",
   "id": "b0a821d9",
   "metadata": {},
   "source": [
    "# Positional Arguments"
   ]
  },
  {
   "cell_type": "code",
   "execution_count": 1,
   "id": "85d689d5",
   "metadata": {},
   "outputs": [
    {
     "name": "stdout",
     "output_type": "stream",
     "text": [
      "Alice is enrolled in Mathematics class.\n"
     ]
    }
   ],
   "source": [
    "def student_information(class_name, student_name):\n",
    "    # Display information about a student and their class.\n",
    "    print(student_name + \" is enrolled in \" + class_name + \" class.\")\n",
    "# Positional arguments:\n",
    "student_information('Mathematics', 'Alice')\n"
   ]
  },
  {
   "cell_type": "markdown",
   "id": "edfad0fb",
   "metadata": {},
   "source": [
    "# Keyword Arguments"
   ]
  },
  {
   "cell_type": "code",
   "execution_count": 2,
   "id": "32dc7e24",
   "metadata": {},
   "outputs": [
    {
     "name": "stdout",
     "output_type": "stream",
     "text": [
      "Alice is enrolled in Mathematics class.\n"
     ]
    }
   ],
   "source": [
    "def student_information(class_name, student_name):\n",
    "    # Display information about a student and their class.\n",
    "    print(student_name + \" is enrolled in \" + class_name + \" class.\")\n",
    "# Keyword arguments:\n",
    "student_information(class_name='Mathematics', student_name='Alice')\n"
   ]
  },
  {
   "cell_type": "markdown",
   "id": "779bb9c3",
   "metadata": {},
   "source": [
    "# Default Arguments"
   ]
  },
  {
   "cell_type": "code",
   "execution_count": 15,
   "id": "98410985",
   "metadata": {},
   "outputs": [
    {
     "name": "stdout",
     "output_type": "stream",
     "text": [
      "Student Name:Lina\n",
      "Enrolled Course:Introduction to Python\n",
      "Student Name:Sara\n",
      "Enrolled Course:Data Structures\n"
     ]
    }
   ],
   "source": [
    "def enroll_student(student_name, course='Introduction to Python'):\n",
    "    # Enroll a student in a course with a default option.\n",
    "    \n",
    "    print(\"Student Name:\" +student_name)\n",
    "    print(\"Enrolled Course:\" +course)\n",
    "    \n",
    "    # Using the default argument for course:\n",
    "enroll_student(student_name='Lina')\n",
    "\n",
    "# Overriding the default argument for course:\n",
    "enroll_student(student_name='Sara', course='Data Structures')\n"
   ]
  },
  {
   "cell_type": "code",
   "execution_count": 16,
   "id": "76e28b3a",
   "metadata": {},
   "outputs": [
    {
     "ename": "TypeError",
     "evalue": "student_information() missing 1 required positional argument: 'student_name'",
     "output_type": "error",
     "traceback": [
      "\u001b[1;31m---------------------------------------------------------------------------\u001b[0m",
      "\u001b[1;31mTypeError\u001b[0m                                 Traceback (most recent call last)",
      "Cell \u001b[1;32mIn[16], line 1\u001b[0m\n\u001b[1;32m----> 1\u001b[0m student_information(\u001b[38;5;124m'\u001b[39m\u001b[38;5;124mtest, test\u001b[39m\u001b[38;5;124m'\u001b[39m)\n",
      "\u001b[1;31mTypeError\u001b[0m: student_information() missing 1 required positional argument: 'student_name'"
     ]
    }
   ],
   "source": [
    "student_information('test, test')\n"
   ]
  },
  {
   "cell_type": "markdown",
   "id": "8e31bbc3",
   "metadata": {},
   "source": [
    "# Keyword Arguments"
   ]
  },
  {
   "cell_type": "code",
   "execution_count": null,
   "id": "4d6e7a1c",
   "metadata": {},
   "outputs": [],
   "source": [
    "def student_information(class_name, student_name):\n",
    "    # Display information about a student and their class.\n",
    "    print(student_name + \" is enrolled in \" + class_name + \" class.\")"
   ]
  },
  {
   "cell_type": "markdown",
   "id": "6846cc01",
   "metadata": {},
   "source": [
    "# function calling"
   ]
  },
  {
   "cell_type": "code",
   "execution_count": 17,
   "id": "65f1ac45",
   "metadata": {},
   "outputs": [
    {
     "name": "stdout",
     "output_type": "stream",
     "text": [
      "Alice is enrolled in Mathematics class.\n"
     ]
    }
   ],
   "source": [
    "student_information(class_name='Mathematics', student_name='Alice')\n"
   ]
  },
  {
   "cell_type": "markdown",
   "id": "831d70e7",
   "metadata": {},
   "source": [
    "# Default Arguments"
   ]
  },
  {
   "cell_type": "code",
   "execution_count": 18,
   "id": "7005f788",
   "metadata": {},
   "outputs": [],
   "source": [
    "def enroll_student(student_name, course='Introduction to Python'):\n",
    "    # Enroll a student in a course with a default option.\n",
    "     print(\"Student Name: \" + student_name)\n",
    "     print(\"Enrolled Course: \" + course)"
   ]
  },
  {
   "cell_type": "code",
   "execution_count": 20,
   "id": "c489a6f4",
   "metadata": {},
   "outputs": [
    {
     "name": "stdout",
     "output_type": "stream",
     "text": [
      "Student Name: Ali\n",
      "Enrolled Course: Introduction to Python\n"
     ]
    }
   ],
   "source": [
    "enroll_student(\"Ali\")"
   ]
  },
  {
   "cell_type": "code",
   "execution_count": 21,
   "id": "b4f684ec",
   "metadata": {},
   "outputs": [
    {
     "name": "stdout",
     "output_type": "stream",
     "text": [
      "Student Name: Ali\n",
      "Enrolled Course: Physics\n"
     ]
    }
   ],
   "source": [
    "enroll_student(\"Ali\", \"Physics\")"
   ]
  },
  {
   "cell_type": "markdown",
   "id": "41a556ec",
   "metadata": {},
   "source": [
    "# variable length Arguments*"
   ]
  },
  {
   "cell_type": "code",
   "execution_count": 22,
   "id": "f0a3824f",
   "metadata": {},
   "outputs": [],
   "source": [
    "def enroll_in_courses(student_name, *courses):\n",
    "    # Enroll a student in multiple courses.\n",
    "    print(\"Student: \" + student_name)\n",
    "    print(\"Enrolled in:\")\n",
    "    for course in courses:\n",
    "        print(\"- \" + course)\n"
   ]
  },
  {
   "cell_type": "code",
   "execution_count": 23,
   "id": "c8352c1c",
   "metadata": {},
   "outputs": [
    {
     "name": "stdout",
     "output_type": "stream",
     "text": [
      "Student: Sara\n",
      "Enrolled in:\n",
      "- English\n",
      "- Programming\n",
      "- Physics\n"
     ]
    }
   ],
   "source": [
    "enroll_in_courses(\"Sara\", \"English\", \"Programming\", \"Physics\")"
   ]
  },
  {
   "cell_type": "code",
   "execution_count": 24,
   "id": "b1a4d5b3",
   "metadata": {},
   "outputs": [
    {
     "name": "stdout",
     "output_type": "stream",
     "text": [
      "Student: Emily\n",
      "Enrolled in:\n",
      "- Biology 101\n",
      "- Chemistry 101\n",
      "- Physics 101\n"
     ]
    }
   ],
   "source": [
    "enroll_in_courses('Emily', 'Biology 101', 'Chemistry 101', 'Physics 101')\n"
   ]
  },
  {
   "cell_type": "markdown",
   "id": "d641e187",
   "metadata": {},
   "source": [
    "## Variable Length Arguments **"
   ]
  },
  {
   "cell_type": "code",
   "execution_count": 25,
   "id": "07eedcfe",
   "metadata": {},
   "outputs": [],
   "source": [
    "def enroll_student(student_name, **details):\n",
    "     # Enroll a student with additional details.\n",
    "    print(\"Enrolling \" + student_name + \" with the following details:\")\n",
    "    for detail, value in details.items():\n",
    "        print(\"- \" + detail.replace('_', ' ').title() + \": \" + str(value))\n"
   ]
  },
  {
   "cell_type": "code",
   "execution_count": 26,
   "id": "e58f7638",
   "metadata": {},
   "outputs": [
    {
     "name": "stdout",
     "output_type": "stream",
     "text": [
      "Enrolling Smith with the following details:\n",
      "- Course: Algebra II\n",
      "- Semester: One\n",
      "- Payment Method: Credit Card\n"
     ]
    }
   ],
   "source": [
    "enroll_student('Smith', course='Algebra II', semester='One', payment_method='Credit Card')\n"
   ]
  },
  {
   "cell_type": "code",
   "execution_count": 27,
   "id": "937a0ba9",
   "metadata": {},
   "outputs": [],
   "source": [
    "def enroll_student(student_name, **details):\n",
    "     # Enroll a student with additional details.\n",
    "    print(\"Enrolling \" + student_name + \" with the following details:\")\n",
    "    for detail, value in details.items():\n",
    "        print(\"- \" + detail + \": \" + str(value))\n"
   ]
  },
  {
   "cell_type": "code",
   "execution_count": 28,
   "id": "7ac405b0",
   "metadata": {},
   "outputs": [
    {
     "name": "stdout",
     "output_type": "stream",
     "text": [
      "Enrolling Smith with the following details:\n",
      "- course: Algebra II\n",
      "- semester: One\n",
      "- payment_method: Credit Card\n"
     ]
    }
   ],
   "source": [
    "enroll_student('Smith', course='Algebra II', semester='One', payment_method='Credit Card')\n"
   ]
  },
  {
   "cell_type": "code",
   "execution_count": 30,
   "id": "15ae6a9c",
   "metadata": {},
   "outputs": [],
   "source": [
    "def enroll_student(student_name, **details):\n",
    "     # Enroll a student with additional details.\n",
    "    print(\"Enrolling \" + student_name + \" with the following details:\")\n",
    "    for key, value in details.items():\n",
    "        print(value)\n",
    "        print(key)\n"
   ]
  },
  {
   "cell_type": "code",
   "execution_count": 32,
   "id": "6695ce68",
   "metadata": {},
   "outputs": [
    {
     "name": "stdout",
     "output_type": "stream",
     "text": [
      "Enrolling Smith with the following details:\n",
      "Algebra II\n",
      "course\n",
      "One\n",
      "semester\n",
      "Credit Card\n",
      "payment_method\n"
     ]
    }
   ],
   "source": [
    "enroll_student('Smith', course='Algebra II', semester='One', payment_method='Credit Card')\n"
   ]
  },
  {
   "cell_type": "code",
   "execution_count": 33,
   "id": "723f21f5",
   "metadata": {},
   "outputs": [],
   "source": [
    "def enroll_student(student_name, **details):\n",
    "     # Enroll a student with additional details.\n",
    "    print(\"Enrolling \" + student_name + \" with the following details:\")\n",
    "    for key, value in details.items():\n",
    "        print(key + \"=\" + value)"
   ]
  },
  {
   "cell_type": "code",
   "execution_count": 34,
   "id": "924b255d",
   "metadata": {},
   "outputs": [
    {
     "name": "stdout",
     "output_type": "stream",
     "text": [
      "Enrolling Smith with the following details:\n",
      "course=Algebra II\n",
      "semester=One\n",
      "payment_method=Credit Card\n"
     ]
    }
   ],
   "source": [
    "enroll_student('Smith', course='Algebra II', semester='One', payment_method='Credit Card')\n"
   ]
  },
  {
   "cell_type": "code",
   "execution_count": 35,
   "id": "95569fca",
   "metadata": {},
   "outputs": [],
   "source": [
    "def enroll_student(student_name, **details):\n",
    "     # Enroll a student with additional details.\n",
    "    print(\"Enrolling \" + student_name + \" with the following details:\")\n",
    "    for key, value in details.items():\n",
    "        print(key + \"=\" + value)"
   ]
  },
  {
   "cell_type": "code",
   "execution_count": 36,
   "id": "10b82d90",
   "metadata": {},
   "outputs": [
    {
     "name": "stdout",
     "output_type": "stream",
     "text": [
      "Enrolling Smith with the following details:\n",
      "course=Algebra II\n",
      "semester=One\n",
      "payment_method=Credit Card\n",
      "student_age=22\n"
     ]
    }
   ],
   "source": [
    "enroll_student('Smith', course='Algebra II', semester='One', payment_method='Credit Card', student_age='22')"
   ]
  },
  {
   "cell_type": "code",
   "execution_count": null,
   "id": "d6b6b2c4",
   "metadata": {},
   "outputs": [],
   "source": []
  }
 ],
 "metadata": {
  "kernelspec": {
   "display_name": "Python 3 (ipykernel)",
   "language": "python",
   "name": "python3"
  },
  "language_info": {
   "codemirror_mode": {
    "name": "ipython",
    "version": 3
   },
   "file_extension": ".py",
   "mimetype": "text/x-python",
   "name": "python",
   "nbconvert_exporter": "python",
   "pygments_lexer": "ipython3",
   "version": "3.11.5"
  }
 },
 "nbformat": 4,
 "nbformat_minor": 5
}
